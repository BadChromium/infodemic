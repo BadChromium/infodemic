{
 "cells": [
  {
   "cell_type": "markdown",
   "metadata": {},
   "source": [
    "# Rumor Source Detection on Directed Graph"
   ]
  },
  {
   "cell_type": "code",
   "execution_count": 1,
   "metadata": {},
   "outputs": [],
   "source": [
    "import math\n",
    "import igraph as ig\n",
    "import matplotlib.pyplot as plt\n",
    "\n",
    "def draw_graph(graph):\n",
    "    fig, ax = plt.subplots()\n",
    "    ig.plot(\n",
    "        graph, \n",
    "        layout=\"kk\", \n",
    "        target=ax,\n",
    "        edge_width=2,\n",
    "        edge_label=graph.es[\"capacity\"],\n",
    "        vertex_size=25,\n",
    "        vertex_label=range(graph.vcount()),\n",
    "        edge_background=\"white\"\n",
    "        )\n",
    "    plt.show()"
   ]
  },
  {
   "cell_type": "markdown",
   "metadata": {},
   "source": [
    "Draw a simple example 4-node directed graph with capacities."
   ]
  },
  {
   "cell_type": "code",
   "execution_count": null,
   "metadata": {},
   "outputs": [],
   "source": [
    "# Example\n",
    "if __name__ == \"__main__\":\n",
    "    # Create a network\n",
    "    g = ig.Graph(directed=True)\n",
    "    g.add_vertices(4)\n",
    "    g.add_edges([(0, 1), (0, 2), (1, 2), (2, 3)]) \n",
    "    g.es[\"capacity\"] = [3, 2, 3, 4]\n",
    "\n",
    "    print(g.summary())\n",
    "    # print(g.get_adjacency())\n",
    "    fig, ax = plt.subplots()\n",
    "    ig.plot(\n",
    "        g, \n",
    "        layout=\"kk\", \n",
    "        target=ax,\n",
    "        edge_width=2,\n",
    "        edge_label=g.es[\"capacity\"],\n",
    "        vertex_size=25,\n",
    "        vertex_label=range(g.vcount()),\n",
    "        edge_background=\"white\"\n",
    "        )\n",
    "    plt.show()\n"
   ]
  },
  {
   "cell_type": "markdown",
   "metadata": {},
   "source": [
    "# Single source multicast rate"
   ]
  },
  {
   "cell_type": "markdown",
   "metadata": {},
   "source": [
    "Given the source nodes can collude to encode the rumor, the capacity becomes the maximum single-source multicast rate, which is defined by \n",
    "\\begin{equation}\\rho_{\\text{ss}}(S,A) := \\min_{B\\subseteq V : S\\subseteq B\\not\\supseteq A} \\lambda(B, V\\setminus B).\\end{equation}\n",
    "To calculate the mincut function, we have\n",
    "\\begin{align}\n",
    "    \\min_{B\\subseteq V : S\\subseteq B\\not\\supseteq A} \\lambda(B, V\\setminus B) &= \\min_{j \\in A} \\min_{B \\subseteq V \\setminus \\{j\\}: B \\supseteq S} \\lambda(B, \\{j\\}) \\\\\n",
    "    &= \\min_{j \\in A} \\text{mincut} (s, j),\n",
    "\\end{align}\n",
    "where $s$ is the node by node contraction in $B$. The min-cut is calculated by `iGraph.mincut` method with iGraph package."
   ]
  },
  {
   "cell_type": "code",
   "execution_count": 12,
   "metadata": {},
   "outputs": [],
   "source": [
    "\n",
    "def rate_ss(graph, S, A):\n",
    "    if A == set(): \n",
    "        return math.inf\n",
    "    elif S.issubset(A): \n",
    "        return float(0)\n",
    "    \n",
    "    new_node = len(graph.vs)\n",
    "    flows = []\n",
    "    \n",
    "    if len(S) == 1:\n",
    "        s = list(S)[0]\n",
    "        for j in A:            \n",
    "            min_cut_value = graph.mincut(s, j, capacity=graph.es[\"capacity\"]).value\n",
    "            flows.append(min_cut_value)\n",
    "        return min(flows)\n",
    "    \n",
    "    for j in A:\n",
    "        mapping_vector = [i if i not in S - {j} else new_node for i in range(new_node)]\n",
    "        contracted_graph = graph.copy()\n",
    "        contracted_graph.contract_vertices(mapping_vector, combine_attrs={\"capacity\": sum})\n",
    "        min_cut_value = contracted_graph.mincut(new_node, j, capacity=contracted_graph.es[\"capacity\"]).value\n",
    "        flows.append(min_cut_value)\n",
    "            \n",
    "    return min(flows)"
   ]
  },
  {
   "cell_type": "markdown",
   "metadata": {},
   "source": [
    "According to the example, here are the results of single-source multicast rates."
   ]
  },
  {
   "cell_type": "code",
   "execution_count": null,
   "metadata": {},
   "outputs": [],
   "source": [
    "print(rate_ss(g, {1, 2, 3}, {2, 3}))\n",
    "print(rate_ss(g, {3}, {2, 3}))\n",
    "print(rate_ss(g, {0}, {2, 3}))\n",
    "print(rate_ss(g, {1}, {2, 3}))\n",
    "print(rate_ss(g, {0, 1}, {2, 3}))"
   ]
  },
  {
   "cell_type": "markdown",
   "metadata": {},
   "source": [
    "Backward elimiation algorithm according to Listing 1 in the paper."
   ]
  },
  {
   "cell_type": "code",
   "execution_count": 32,
   "metadata": {},
   "outputs": [],
   "source": [
    "# Backward elimination algorithm\n",
    "def feasible_source(graph, r, A):\n",
    "    if r <= 0: raise ValueError(\"Rate r must be positive\")\n",
    "    V = {v.index for v in graph.vs}\n",
    "\n",
    "    if rate_ss(graph, V, A) < r:\n",
    "        return None\n",
    "    \n",
    "    S = V\n",
    "    for u in V:\n",
    "        if rate_ss(graph, S - {u}, A) >= r:\n",
    "            S = S - {u}\n",
    "    return S"
   ]
  },
  {
   "cell_type": "markdown",
   "metadata": {},
   "source": [
    "If the limited rate $r = 3$, we can find the feasible source nodes $\\{0, 1\\}$."
   ]
  },
  {
   "cell_type": "code",
   "execution_count": null,
   "metadata": {},
   "outputs": [],
   "source": [
    "# Example\n",
    "if __name__ == \"__main__\":\n",
    "    # Define sink group A\n",
    "    sinks = {2, 3}\n",
    "\n",
    "    # Define the rate r\n",
    "    r = 1\n",
    "\n",
    "    # Find the feasible source group\n",
    "    feasible_sources = feasible_source(g, r, sinks)\n",
    "    print(f\"Feasible source: {feasible_sources}\")"
   ]
  },
  {
   "cell_type": "markdown",
   "metadata": {},
   "source": [
    "Test on the butterfly network."
   ]
  },
  {
   "cell_type": "code",
   "execution_count": 3,
   "metadata": {},
   "outputs": [
    {
     "name": "stdout",
     "output_type": "stream",
     "text": [
      "IGRAPH D--- 6 7 -- \n",
      "+ attr: capacity (e)\n"
     ]
    },
    {
     "data": {
      "image/png": "[encoded data removed]",
      "text/plain": [
       "<Figure size 640x480 with 1 Axes>"
      ]
     },
     "metadata": {},
     "output_type": "display_data"
    }
   ],
   "source": [
    "if __name__ == \"__main__\":\n",
    "    # Create a network\n",
    "    b = ig.Graph(directed=True)\n",
    "    b.add_vertices(6)\n",
    "    b.add_edges([(0, 4), (0, 2), (1, 2), (1, 5), (2, 3), (3, 4), (3, 5)]) \n",
    "    b.es[\"capacity\"] = [1, 1, 1, 1, 1, 1, 1]\n",
    "\n",
    "    print(b.summary())\n",
    "    \n",
    "    fig1, ax1 = plt.subplots()\n",
    "    ig.plot(\n",
    "        b, \n",
    "        layout=\"kk\", \n",
    "        target=ax1,\n",
    "        edge_width=2,\n",
    "        edge_label=b.es[\"capacity\"],\n",
    "        vertex_size=25,\n",
    "        vertex_label=range(b.vcount()),\n",
    "        edge_background=\"white\"\n",
    "        )\n",
    "    plt.show()"
   ]
  },
  {
   "cell_type": "code",
   "execution_count": 37,
   "metadata": {},
   "outputs": [
    {
     "name": "stdout",
     "output_type": "stream",
     "text": [
      "The single source multicast rate is 1.0 for the source group {0} and sink group {4, 5}\n",
      "The single source multicast rate is 1.0 for the source group {1} and sink group {4, 5}\n",
      "The single source multicast rate is 1.0 for the source group {2} and sink group {4, 5}\n",
      "The single source multicast rate is 1.0 for the source group {3} and sink group {4, 5}\n",
      "The single source multicast rate is 2.0 for the source group {0, 1} and sink group {4, 5}\n",
      "The single source multicast rate is 1.0 for the source group {1, 2} and sink group {4, 5}\n",
      "The single source multicast rate is 2.0 for the source group {0, 1, 2} and sink group {4, 5}\n",
      "The single source multicast rate is 0.0 for the source group {4} and sink group {4, 5}\n",
      "The single source multicast rate is 1.0 for the source group {0, 4} and sink group {4, 5}\n",
      "The single source multicast rate is 0.0 for the source group {4, 5} and sink group {4, 5}\n",
      "The single source multicast rate is 2.0 for the source group {0, 1, 2, 3, 4, 5} and sink group {4, 5}\n"
     ]
    }
   ],
   "source": [
    "source_set = [{0}, {1}, {2}, {3}, {0, 1}, {1, 2}, {0, 1, 2}, {4}, {0, 4}, {4, 5}, {0, 1, 2, 3, 4, 5}]\n",
    "for sets in source_set:\n",
    "    print(f'The single source multicast rate is {rate_ss(b, sets, {4, 5})} for the source group {sets} and sink group {{4, 5}}')"
   ]
  },
  {
   "cell_type": "code",
   "execution_count": 39,
   "metadata": {},
   "outputs": [
    {
     "name": "stdout",
     "output_type": "stream",
     "text": [
      "If rate limit is 0.1, one of the feasible source: {3}\n",
      "If rate limit is 1, one of the feasible source: {3}\n",
      "If rate limit is 1.5, one of the feasible source: {0, 1}\n",
      "If rate limit is 2, one of the feasible source: {0, 1}\n",
      "If rate limit is 3, one of the feasible source: None\n"
     ]
    }
   ],
   "source": [
    "# Define sink group A\n",
    "sinks = {4, 5}\n",
    "\n",
    "# Define the rate limit r with a list\n",
    "r_list = [0.1, 1, 1.5, 2, 3]\n",
    "\n",
    "# Find the feasible source group\n",
    "for r in r_list:\n",
    "    feasible_sources = feasible_source(b, r, sinks)\n",
    "    print(f\"If rate limit is {r}, one of the feasible source: {feasible_sources}\")"
   ]
  },
  {
   "cell_type": "markdown",
   "metadata": {},
   "source": [
    "Test on a synthetic network which contains more nodes and edges.\n",
    "\n",
    "In the example, the underlying graph is built with 100 nodes and edge number randomly chosen between `num_nodes` and `num_nodes * (num_nodes-1)`. The capacities are $(0, 10]$. We set the rate $r = 20$ to show the feasible sources."
   ]
  },
  {
   "cell_type": "code",
   "execution_count": 45,
   "metadata": {},
   "outputs": [
    {
     "name": "stdout",
     "output_type": "stream",
     "text": [
      "IGRAPH D--- 100 5735 -- \n",
      "+ attr: capacity (e)\n",
      "One of the feasible source: {99}\n"
     ]
    }
   ],
   "source": [
    "import random\n",
    "\n",
    "min_weight, max_weight=1, 10\n",
    "num_nodes = 100\n",
    "\n",
    "G = ig.Graph(directed=True)\n",
    "G.add_vertices(num_nodes)\n",
    "num_edges = random.randint(num_nodes, num_nodes*(num_nodes-1))\n",
    "\n",
    "for _ in range(num_edges):\n",
    "    u = random.randint(0, num_nodes-1)\n",
    "    v = random.randint(0, num_nodes-1)\n",
    "    if u != v and not G.are_connected(u, v):\n",
    "        G.add_edge(u, v, capacity=random.randint(min_weight, max_weight))\n",
    "\n",
    "print(G.summary())\n",
    "\n",
    "sink = {45, 7, 8}\n",
    "\n",
    "rate = 1\n",
    "\n",
    "feasible_sources = feasible_source(G, rate, sink)\n",
    "print(f\"One of the feasible source: {feasible_sources}\")"
   ]
  },
  {
   "cell_type": "markdown",
   "metadata": {},
   "source": [
    "# Maximum unicast rate"
   ]
  },
  {
   "cell_type": "markdown",
   "metadata": {},
   "source": [
    "If the source nodes and sink nodes can collude respectively, the capacity becomes the maximum unicast rate\n",
    "\\begin{equation}\n",
    "    \\rho_{\\text{uc}}(S,A) := \\min_{B\\subseteq V \\setminus A: S\\subseteq B} \\lambda(B, V\\setminus B).\n",
    "\\end{equation}\n",
    "The calculation of the mincut function is similar to the single source multicast rate."
   ]
  },
  {
   "cell_type": "code",
   "execution_count": null,
   "metadata": {},
   "outputs": [],
   "source": [
    "def rate_uc(graph, S, A):\n",
    "    if A == set():\n",
    "        return math.inf\n",
    "    new_node = len(graph.vs)\n",
    "    flows = []\n",
    "    \n",
    "    if len(S) == 1:\n",
    "        s = list(S)[0]\n",
    "        for j in A:            \n",
    "            min_cut_value = graph.mincut(s, j, capacity=graph.es[\"capacity\"]).value\n",
    "            flows.append(min_cut_value)\n",
    "        return min(flows)\n",
    "    \n",
    "    for j in A:\n",
    "        mapping_vector = [i if i not in S - {j} else new_node for i in range(new_node)]\n",
    "        contracted_graph = graph.copy()\n",
    "        contracted_graph.contract_vertices(mapping_vector, combine_attrs={\"capacity\": sum})\n",
    "        min_cut_value = contracted_graph.mincut(new_node, j, capacity=contracted_graph.es[\"capacity\"]).value\n",
    "        flows.append(min_cut_value)\n",
    "            \n",
    "    return min(flows)"
   ]
  }
 ],
 "metadata": {
  "kernelspec": {
   "display_name": "base",
   "language": "python",
   "name": "python3"
  },
  "language_info": {
   "codemirror_mode": {
    "name": "ipython",
    "version": 3
   },
   "file_extension": ".py",
   "mimetype": "text/x-python",
   "name": "python",
   "nbconvert_exporter": "python",
   "pygments_lexer": "ipython3",
   "version": "3.10.13"
  }
 },
 "nbformat": 4,
 "nbformat_minor": 2
}
